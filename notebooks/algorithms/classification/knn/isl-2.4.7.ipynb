{
 "cells": [
  {
   "cell_type": "markdown",
   "id": "794a9610-e3a8-4ed4-81c9-0a177831ad56",
   "metadata": {},
   "source": [
    "- **source**: Introduction to Statistical Learning\n",
    "- **chapter**: 2\n",
    "- **exercise**: 7"
   ]
  },
  {
   "cell_type": "code",
   "execution_count": 34,
   "id": "6c71dbcf-1cd4-4f21-8661-665775764c47",
   "metadata": {},
   "outputs": [],
   "source": [
    "import pandas as pd\n",
    "import numpy as np\n",
    "from sklearn.metrics.pairwise import euclidean_distances\n",
    "from sklearn.neighbors import KNeighborsClassifier"
   ]
  },
  {
   "cell_type": "markdown",
   "id": "c5f35939-41ef-4ab8-97d6-e4f4e1641d3a",
   "metadata": {},
   "source": [
    "The following table provides a training dataset containing six samples, three predictors and one target qualitative variable. Suppose you want to use these data to predict Y when $X_1 = X_2 = X_3 = 0$"
   ]
  },
  {
   "cell_type": "code",
   "execution_count": 42,
   "id": "bb4374c7-4681-4811-9115-3e6ec1e9af78",
   "metadata": {},
   "outputs": [
    {
     "data": {
      "text/html": [
       "<div>\n",
       "<style scoped>\n",
       "    .dataframe tbody tr th:only-of-type {\n",
       "        vertical-align: middle;\n",
       "    }\n",
       "\n",
       "    .dataframe tbody tr th {\n",
       "        vertical-align: top;\n",
       "    }\n",
       "\n",
       "    .dataframe thead th {\n",
       "        text-align: right;\n",
       "    }\n",
       "</style>\n",
       "<table border=\"1\" class=\"dataframe\">\n",
       "  <thead>\n",
       "    <tr style=\"text-align: right;\">\n",
       "      <th></th>\n",
       "      <th>x1</th>\n",
       "      <th>x2</th>\n",
       "      <th>x3</th>\n",
       "      <th>y</th>\n",
       "    </tr>\n",
       "  </thead>\n",
       "  <tbody>\n",
       "    <tr>\n",
       "      <th>0</th>\n",
       "      <td>0</td>\n",
       "      <td>3</td>\n",
       "      <td>0</td>\n",
       "      <td>Red</td>\n",
       "    </tr>\n",
       "    <tr>\n",
       "      <th>1</th>\n",
       "      <td>2</td>\n",
       "      <td>0</td>\n",
       "      <td>0</td>\n",
       "      <td>Red</td>\n",
       "    </tr>\n",
       "    <tr>\n",
       "      <th>2</th>\n",
       "      <td>0</td>\n",
       "      <td>1</td>\n",
       "      <td>3</td>\n",
       "      <td>Red</td>\n",
       "    </tr>\n",
       "    <tr>\n",
       "      <th>3</th>\n",
       "      <td>0</td>\n",
       "      <td>1</td>\n",
       "      <td>2</td>\n",
       "      <td>Green</td>\n",
       "    </tr>\n",
       "    <tr>\n",
       "      <th>4</th>\n",
       "      <td>-1</td>\n",
       "      <td>0</td>\n",
       "      <td>1</td>\n",
       "      <td>Green</td>\n",
       "    </tr>\n",
       "    <tr>\n",
       "      <th>5</th>\n",
       "      <td>1</td>\n",
       "      <td>1</td>\n",
       "      <td>1</td>\n",
       "      <td>Red</td>\n",
       "    </tr>\n",
       "  </tbody>\n",
       "</table>\n",
       "</div>"
      ],
      "text/plain": [
       "   x1  x2  x3      y\n",
       "0   0   3   0    Red\n",
       "1   2   0   0    Red\n",
       "2   0   1   3    Red\n",
       "3   0   1   2  Green\n",
       "4  -1   0   1  Green\n",
       "5   1   1   1    Red"
      ]
     },
     "execution_count": 42,
     "metadata": {},
     "output_type": "execute_result"
    }
   ],
   "source": [
    "data = [\n",
    "    [0, 3, 0, 'Red'], \n",
    "    [2, 0, 0, 'Red'], \n",
    "    [0, 1, 3, 'Red'], \n",
    "    [0, 1, 2, 'Green'], \n",
    "    [-1, 0, 1, 'Green'], \n",
    "    [1, 1, 1, 'Red']\n",
    "]\n",
    "\n",
    "columns = ['x1', 'x2', 'x3', 'y']\n",
    "\n",
    "df = pd.DataFrame(data=data, columns=columns)\n",
    "df"
   ]
  },
  {
   "cell_type": "markdown",
   "id": "2c93157d-32cc-4830-af2b-9ce90bf1bb6c",
   "metadata": {},
   "source": [
    "**Calculate the Euclidean distance between each observation and the test point $(0, 0, 0)$**"
   ]
  },
  {
   "cell_type": "markdown",
   "id": "52b469dd-8575-458a-8c6f-1ccc2a5d110f",
   "metadata": {},
   "source": [
    "Given two points, $P_1 = (x_1, y_1)$, e $P_2 = (x_2, y_2)$, the Euclidean distance between these points is calculated as:\n",
    "\n",
    "$$\n",
    "d = \\sqrt{(x_1 - x_2)^2 + (y_1 - y_2)^2}\n",
    "$$"
   ]
  },
  {
   "cell_type": "code",
   "execution_count": 33,
   "id": "9d3bb150-073b-49e3-9a60-862a7f9a31ca",
   "metadata": {},
   "outputs": [
    {
     "data": {
      "text/html": [
       "<div>\n",
       "<style scoped>\n",
       "    .dataframe tbody tr th:only-of-type {\n",
       "        vertical-align: middle;\n",
       "    }\n",
       "\n",
       "    .dataframe tbody tr th {\n",
       "        vertical-align: top;\n",
       "    }\n",
       "\n",
       "    .dataframe thead th {\n",
       "        text-align: right;\n",
       "    }\n",
       "</style>\n",
       "<table border=\"1\" class=\"dataframe\">\n",
       "  <thead>\n",
       "    <tr style=\"text-align: right;\">\n",
       "      <th></th>\n",
       "      <th>x1</th>\n",
       "      <th>x2</th>\n",
       "      <th>x3</th>\n",
       "      <th>y</th>\n",
       "      <th>distance</th>\n",
       "    </tr>\n",
       "  </thead>\n",
       "  <tbody>\n",
       "    <tr>\n",
       "      <th>4</th>\n",
       "      <td>-1</td>\n",
       "      <td>0</td>\n",
       "      <td>1</td>\n",
       "      <td>Green</td>\n",
       "      <td>1.414214</td>\n",
       "    </tr>\n",
       "    <tr>\n",
       "      <th>5</th>\n",
       "      <td>1</td>\n",
       "      <td>1</td>\n",
       "      <td>1</td>\n",
       "      <td>Red</td>\n",
       "      <td>1.732051</td>\n",
       "    </tr>\n",
       "    <tr>\n",
       "      <th>1</th>\n",
       "      <td>2</td>\n",
       "      <td>0</td>\n",
       "      <td>0</td>\n",
       "      <td>Red</td>\n",
       "      <td>2.000000</td>\n",
       "    </tr>\n",
       "    <tr>\n",
       "      <th>3</th>\n",
       "      <td>0</td>\n",
       "      <td>1</td>\n",
       "      <td>2</td>\n",
       "      <td>Green</td>\n",
       "      <td>2.236068</td>\n",
       "    </tr>\n",
       "    <tr>\n",
       "      <th>0</th>\n",
       "      <td>0</td>\n",
       "      <td>3</td>\n",
       "      <td>0</td>\n",
       "      <td>Red</td>\n",
       "      <td>3.000000</td>\n",
       "    </tr>\n",
       "    <tr>\n",
       "      <th>2</th>\n",
       "      <td>0</td>\n",
       "      <td>1</td>\n",
       "      <td>3</td>\n",
       "      <td>Red</td>\n",
       "      <td>3.162278</td>\n",
       "    </tr>\n",
       "  </tbody>\n",
       "</table>\n",
       "</div>"
      ],
      "text/plain": [
       "   x1  x2  x3      y  distance\n",
       "4  -1   0   1  Green  1.414214\n",
       "5   1   1   1    Red  1.732051\n",
       "1   2   0   0    Red  2.000000\n",
       "3   0   1   2  Green  2.236068\n",
       "0   0   3   0    Red  3.000000\n",
       "2   0   1   3    Red  3.162278"
      ]
     },
     "execution_count": 33,
     "metadata": {},
     "output_type": "execute_result"
    }
   ],
   "source": [
    "df.assign(distance=lambda df: euclidean_distances(df[['x1', 'x2', 'x3']], [[0, 0, 0]])).sort_values(by='distance')"
   ]
  },
  {
   "cell_type": "markdown",
   "id": "098060ae-5379-4a6d-9dca-8e541ca4265a",
   "metadata": {},
   "source": [
    "**What will be the prediction for $k=1$?**\n",
    "\n",
    "Ordeding the dataset by distance in ascending order, the nearest point, and consequently the prevision, is `Green`"
   ]
  },
  {
   "cell_type": "markdown",
   "id": "c31481b3-8dde-4f98-94ca-69943b82f34b",
   "metadata": {},
   "source": [
    "**What will be the prediction for $k=3$?**\n",
    "\n",
    "Ordering the dataset by distance in ascending order, the most likely output is `Red`"
   ]
  },
  {
   "cell_type": "markdown",
   "id": "9ca7f7d5-da90-419b-938b-dab674d66875",
   "metadata": {},
   "source": [
    "## Backtesting an implementation of knn"
   ]
  },
  {
   "cell_type": "code",
   "execution_count": 41,
   "id": "ed7a280a-2e47-40ab-a645-d673015efe7d",
   "metadata": {},
   "outputs": [
    {
     "data": {
      "text/plain": [
       "array(['Green'], dtype=object)"
      ]
     },
     "execution_count": 41,
     "metadata": {},
     "output_type": "execute_result"
    }
   ],
   "source": [
    "KNeighborsClassifier(n_neighbors=1).fit(df[['x1', 'x2', 'x3']].values, df['y']).predict([[0, 0, 0]])"
   ]
  },
  {
   "cell_type": "code",
   "execution_count": 40,
   "id": "320561ea-6f5e-4948-8f7e-45ba607197ae",
   "metadata": {},
   "outputs": [
    {
     "data": {
      "text/plain": [
       "array(['Red'], dtype=object)"
      ]
     },
     "execution_count": 40,
     "metadata": {},
     "output_type": "execute_result"
    }
   ],
   "source": [
    "KNeighborsClassifier(n_neighbors=3).fit(df[['x1', 'x2', 'x3']].values, df['y']).predict([[0, 0, 0]])"
   ]
  }
 ],
 "metadata": {
  "kernelspec": {
   "display_name": "Python 3 (ipykernel)",
   "language": "python",
   "name": "python3"
  },
  "language_info": {
   "codemirror_mode": {
    "name": "ipython",
    "version": 3
   },
   "file_extension": ".py",
   "mimetype": "text/x-python",
   "name": "python",
   "nbconvert_exporter": "python",
   "pygments_lexer": "ipython3",
   "version": "3.8.8"
  }
 },
 "nbformat": 4,
 "nbformat_minor": 5
}
