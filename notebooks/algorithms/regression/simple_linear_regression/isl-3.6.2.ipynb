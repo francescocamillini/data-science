{
 "cells": [
  {
   "cell_type": "markdown",
   "id": "5f22de6e-e4ad-48f7-8fe9-e88d54ccdc8c",
   "metadata": {},
   "source": [
    "# Simple Linear Regression"
   ]
  },
  {
   "cell_type": "code",
   "execution_count": 110,
   "id": "117e7192-e33b-4348-9bdb-f233ccf3659b",
   "metadata": {},
   "outputs": [],
   "source": [
    "import pandas as pd\n",
    "import numpy as np\n",
    "from sklearn.linear_model import LinearRegression\n",
    "from sklearn import metrics\n",
    "import seaborn as sns\n",
    "from scipy.stats import t\n",
    "import matplotlib.pyplot as plt"
   ]
  },
  {
   "cell_type": "code",
   "execution_count": 3,
   "id": "54437454-8022-44d8-b047-303f3dd78b62",
   "metadata": {},
   "outputs": [
    {
     "data": {
      "text/html": [
       "<div>\n",
       "<style scoped>\n",
       "    .dataframe tbody tr th:only-of-type {\n",
       "        vertical-align: middle;\n",
       "    }\n",
       "\n",
       "    .dataframe tbody tr th {\n",
       "        vertical-align: top;\n",
       "    }\n",
       "\n",
       "    .dataframe thead th {\n",
       "        text-align: right;\n",
       "    }\n",
       "</style>\n",
       "<table border=\"1\" class=\"dataframe\">\n",
       "  <thead>\n",
       "    <tr style=\"text-align: right;\">\n",
       "      <th></th>\n",
       "      <th>CRIM</th>\n",
       "      <th>ZN</th>\n",
       "      <th>INDUS</th>\n",
       "      <th>CHAS</th>\n",
       "      <th>NOX</th>\n",
       "      <th>RM</th>\n",
       "      <th>AGE</th>\n",
       "      <th>DIS</th>\n",
       "      <th>RAD</th>\n",
       "      <th>TAX</th>\n",
       "      <th>PTRATIO</th>\n",
       "      <th>B</th>\n",
       "      <th>LSTAT</th>\n",
       "      <th>MEDV</th>\n",
       "    </tr>\n",
       "  </thead>\n",
       "  <tbody>\n",
       "    <tr>\n",
       "      <th>0</th>\n",
       "      <td>0.00632</td>\n",
       "      <td>18.0</td>\n",
       "      <td>2.31</td>\n",
       "      <td>0</td>\n",
       "      <td>0.538</td>\n",
       "      <td>6.575</td>\n",
       "      <td>65.2</td>\n",
       "      <td>4.0900</td>\n",
       "      <td>1</td>\n",
       "      <td>296.0</td>\n",
       "      <td>15.3</td>\n",
       "      <td>396.90</td>\n",
       "      <td>4.98</td>\n",
       "      <td>24.0</td>\n",
       "    </tr>\n",
       "    <tr>\n",
       "      <th>1</th>\n",
       "      <td>0.02731</td>\n",
       "      <td>0.0</td>\n",
       "      <td>7.07</td>\n",
       "      <td>0</td>\n",
       "      <td>0.469</td>\n",
       "      <td>6.421</td>\n",
       "      <td>78.9</td>\n",
       "      <td>4.9671</td>\n",
       "      <td>2</td>\n",
       "      <td>242.0</td>\n",
       "      <td>17.8</td>\n",
       "      <td>396.90</td>\n",
       "      <td>9.14</td>\n",
       "      <td>21.6</td>\n",
       "    </tr>\n",
       "    <tr>\n",
       "      <th>2</th>\n",
       "      <td>0.02729</td>\n",
       "      <td>0.0</td>\n",
       "      <td>7.07</td>\n",
       "      <td>0</td>\n",
       "      <td>0.469</td>\n",
       "      <td>7.185</td>\n",
       "      <td>61.1</td>\n",
       "      <td>4.9671</td>\n",
       "      <td>2</td>\n",
       "      <td>242.0</td>\n",
       "      <td>17.8</td>\n",
       "      <td>392.83</td>\n",
       "      <td>4.03</td>\n",
       "      <td>34.7</td>\n",
       "    </tr>\n",
       "  </tbody>\n",
       "</table>\n",
       "</div>"
      ],
      "text/plain": [
       "      CRIM    ZN  INDUS  CHAS    NOX     RM   AGE     DIS  RAD    TAX  \\\n",
       "0  0.00632  18.0   2.31     0  0.538  6.575  65.2  4.0900    1  296.0   \n",
       "1  0.02731   0.0   7.07     0  0.469  6.421  78.9  4.9671    2  242.0   \n",
       "2  0.02729   0.0   7.07     0  0.469  7.185  61.1  4.9671    2  242.0   \n",
       "\n",
       "   PTRATIO       B  LSTAT  MEDV  \n",
       "0     15.3  396.90   4.98  24.0  \n",
       "1     17.8  396.90   9.14  21.6  \n",
       "2     17.8  392.83   4.03  34.7  "
      ]
     },
     "execution_count": 3,
     "metadata": {},
     "output_type": "execute_result"
    }
   ],
   "source": [
    "column_names = ['CRIM', 'ZN', 'INDUS', 'CHAS', 'NOX', 'RM', 'AGE', 'DIS', 'RAD', 'TAX', 'PTRATIO', 'B', 'LSTAT', 'MEDV']\n",
    "df = pd.read_csv('../../../../data/boston.csv', header=None, delimiter=r\"\\s+\", names=column_names)\n",
    "df.head(3)"
   ]
  },
  {
   "cell_type": "markdown",
   "id": "32625ad5-29d2-4231-b590-c2e068bf722b",
   "metadata": {},
   "source": [
    "Create a linear regression with `LSTAT` as predictor and `MEDV` as target.\n",
    "\n",
    "With linear regression we suppose have a linear relation between predictor and target variables in this form:\n",
    "\n",
    "$$\n",
    "{y} = \\beta_0 + \\beta_1{x}\n",
    "$$\n",
    "\n",
    "The purpose is to find estimated coefficients $\\hat{\\beta_0}$ and $\\hat{\\beta_1}$ such that \n",
    "\n",
    "$$\n",
    "RSS = \\sum_{i=0}^{n}{y_i - \\hat{y_i}} = \\sum_{i=0}^{n}{y_i - \\hat{\\beta_0} - \\hat{\\beta_1}x_i} = \\sum_{i=0}^{n}{e_i}\n",
    "$$ \n",
    "\n",
    "is minimized.\n",
    "$RSS$ is called $\\text{residual sum of squares}$"
   ]
  },
  {
   "cell_type": "code",
   "execution_count": 25,
   "id": "f9452bf3-f65c-4045-acee-11e77c55b2e8",
   "metadata": {},
   "outputs": [
    {
     "data": {
      "text/plain": [
       "<AxesSubplot:xlabel='LSTAT', ylabel='MEDV'>"
      ]
     },
     "execution_count": 25,
     "metadata": {},
     "output_type": "execute_result"
    },
    {
     "data": {
      "image/png": "[encoded data removed]",
      "text/plain": [
       "<Figure size 432x288 with 1 Axes>"
      ]
     },
     "metadata": {
      "needs_background": "light"
     },
     "output_type": "display_data"
    }
   ],
   "source": [
    "sns.scatterplot(x=df['LSTAT'], y=df['MEDV'])"
   ]
  },
  {
   "cell_type": "markdown",
   "id": "5a38edd3-9e73-44ba-b93b-447cc34d92fa",
   "metadata": {},
   "source": [
    "$$\n",
    "\\hat{\\beta_1} = \\frac{\\sum_{i=1}^{n}(x_i - \\bar{x})(y_i - \\bar{y})}{\\sum_{i=1}^{n}(x_i - \\bar{x})^2}\n",
    "$$\n",
    "\n",
    "$$\n",
    "\\hat{\\beta_0} = \\bar{y} - \\hat{\\beta_1}\\bar{x}\n",
    "$$\n",
    "\n",
    "where\n",
    "\n",
    "- $\\bar{x}$: mean of $X$\n",
    "- $\\bar{y}$: mean of $Y$"
   ]
  },
  {
   "cell_type": "code",
   "execution_count": 22,
   "id": "d0f79e89-78c6-4679-be01-b4f56ef3bb87",
   "metadata": {},
   "outputs": [
    {
     "name": "stdout",
     "output_type": "stream",
     "text": [
      "coef: -0.9500493537579907\n",
      "intercept: 34.5538408793831\n"
     ]
    }
   ],
   "source": [
    "X = df['LSTAT']\n",
    "Y = df['MEDV']\n",
    "\n",
    "beta_1 = ((X - X.mean()) * (Y - Y.mean())).sum()/((X - X.mean())**2).sum()\n",
    "beta_0 = Y.mean() - (beta_1 * X.mean())\n",
    "\n",
    "print(f'coef: {beta_1}')\n",
    "print(f'intercept: {beta_0}')"
   ]
  },
  {
   "cell_type": "markdown",
   "id": "0b4ca6b1-693a-42b1-82a7-a59b2313f5c8",
   "metadata": {},
   "source": [
    "## Performance analysis"
   ]
  },
  {
   "cell_type": "markdown",
   "id": "4130727e-0ac3-4bcc-ac2c-e65684e841d2",
   "metadata": {},
   "source": [
    "### Residuals\n",
    "\n",
    "$$\n",
    "e = Y - \\beta_0 - (\\beta_1 * X)\n",
    "$$\n",
    "\n",
    "$$\n",
    "RSS = \\sum_{i=1}^{n}{e_i}^2\n",
    "$$"
   ]
  },
  {
   "cell_type": "code",
   "execution_count": 27,
   "id": "c6382cf1-d467-4ebe-949e-5fadd7e1e45e",
   "metadata": {},
   "outputs": [
    {
     "data": {
      "text/plain": [
       "count    5.060000e+02\n",
       "mean    -4.325043e-15\n",
       "std      6.209603e+00\n",
       "min     -1.516745e+01\n",
       "25%     -3.989612e+00\n",
       "50%     -1.318186e+00\n",
       "75%      2.033701e+00\n",
       "max      2.450013e+01\n",
       "dtype: float64"
      ]
     },
     "execution_count": 27,
     "metadata": {},
     "output_type": "execute_result"
    }
   ],
   "source": [
    "e = Y - beta_0 - (beta_1 * X)\n",
    "e.describe()"
   ]
  },
  {
   "cell_type": "code",
   "execution_count": 38,
   "id": "fc103491-eb72-408f-ba85-e7602c33b104",
   "metadata": {},
   "outputs": [
    {
     "data": {
      "text/plain": [
       "38.55917112539888"
      ]
     },
     "execution_count": 38,
     "metadata": {},
     "output_type": "execute_result"
    }
   ],
   "source": [
    "e.var()"
   ]
  },
  {
   "cell_type": "code",
   "execution_count": 121,
   "id": "5e3e3a99-93fe-48a2-9476-0f9c55e202e3",
   "metadata": {},
   "outputs": [
    {
     "data": {
      "text/plain": [
       "<AxesSubplot:ylabel='Density'>"
      ]
     },
     "execution_count": 121,
     "metadata": {},
     "output_type": "execute_result"
    },
    {
     "data": {
      "image/png": "[encoded data removed]",
      "text/plain": [
       "<Figure size 432x288 with 1 Axes>"
      ]
     },
     "metadata": {
      "needs_background": "light"
     },
     "output_type": "display_data"
    }
   ],
   "source": [
    "sns.kdeplot(e, fill=True)"
   ]
  },
  {
   "cell_type": "markdown",
   "id": "9fd23182-db57-46a0-9cdd-e1037e88614f",
   "metadata": {},
   "source": [
    "### Residual Standard Error\n",
    "\n",
    "It is in the unit of measure of $Y$\n",
    "\n",
    "$$\n",
    "RSE = \\sqrt{\\frac{\\sum_{i=1}^{n}{e^2}}{n - 2}}\n",
    "$$"
   ]
  },
  {
   "cell_type": "code",
   "execution_count": 101,
   "id": "4831e1f1-d0bf-4a83-b467-bd45f2ccaa46",
   "metadata": {},
   "outputs": [
    {
     "data": {
      "text/plain": [
       "6.215760405398069"
      ]
     },
     "execution_count": 101,
     "metadata": {},
     "output_type": "execute_result"
    }
   ],
   "source": [
    "np.sqrt((e ** 2).sum()/(X.size - 2))"
   ]
  },
  {
   "cell_type": "markdown",
   "id": "bc0d9f0a-7198-4611-a4cd-38a663875a0e",
   "metadata": {},
   "source": [
    "$R^2$\n",
    "\n",
    "It measures the proportion of variability in $Y$ that can be explained using X\n",
    "\n",
    "$$\n",
    "R^2 = \\frac{TSS - RSS}{TSS} = 1 - \\frac{RSS}{TSS}\n",
    "$$\n",
    "\n",
    "where $TSS$ is the `total sum of squares`; it is represent the total variance in the response $Y$ before\n",
    "\n",
    "$$\n",
    "TSS = \\sum_{i=1}^{n}{y_i - \\bar{y}}\n",
    "$$\n"
   ]
  },
  {
   "cell_type": "code",
   "execution_count": 108,
   "id": "81849b93-4057-4151-81e0-84812d156cfe",
   "metadata": {},
   "outputs": [
    {
     "data": {
      "text/plain": [
       "0.5441462975864797"
      ]
     },
     "execution_count": 108,
     "metadata": {},
     "output_type": "execute_result"
    }
   ],
   "source": [
    "tss = ((Y - Y.mean())**2).sum()\n",
    "rss = (e**2).sum()\n",
    "\n",
    "r2 = 1 - (rss/tss)\n",
    "r2"
   ]
  },
  {
   "cell_type": "markdown",
   "id": "5d7f2410-bb6d-41fd-b276-57e2a42fd228",
   "metadata": {
    "tags": []
   },
   "source": [
    "### Coefficient \n",
    "\n",
    "#### Standard Error\n",
    "\n",
    "$$\n",
    "SE(\\beta_1) = \\frac{var(\\epsilon)}{\\sum_{i=1}^{n}{(x_i - \\bar{x})^2}}\n",
    "$$"
   ]
  },
  {
   "cell_type": "code",
   "execution_count": 58,
   "id": "b55c3f3e-b185-4d22-a47e-6afc81c1d8a9",
   "metadata": {},
   "outputs": [
    {
     "data": {
      "text/plain": [
       "0.03869504729166932"
      ]
     },
     "execution_count": 58,
     "metadata": {},
     "output_type": "execute_result"
    }
   ],
   "source": [
    "coefficient_se = np.sqrt(e.var()/(((X - X.mean())**2).sum()))\n",
    "coefficient_se"
   ]
  },
  {
   "cell_type": "markdown",
   "id": "2e97188a-256d-4466-a6ec-880ea50ffd81",
   "metadata": {},
   "source": [
    "#### Confidence interval (95%)"
   ]
  },
  {
   "cell_type": "code",
   "execution_count": 67,
   "id": "5943bab0-cb76-4839-b82c-6889a8e22256",
   "metadata": {},
   "outputs": [
    {
     "name": "stdout",
     "output_type": "stream",
     "text": [
      "-1.0274394483413294\n",
      "-0.872659259174652\n"
     ]
    }
   ],
   "source": [
    "coefficient_lower_bound = (beta_1 - (2 * coefficient_se))\n",
    "coefficient_upper_bound = (beta_1 + (2 * coefficient_se))\n",
    "\n",
    "print(coefficient_lower_bound)\n",
    "print(coefficient_upper_bound)"
   ]
  },
  {
   "cell_type": "markdown",
   "id": "70900212-055e-43fe-b342-84b53d2cf99e",
   "metadata": {
    "tags": []
   },
   "source": [
    "### Intercept\n",
    "\n",
    "#### Standard Error\n",
    "\n",
    "$$\n",
    "SE(\\beta_0) = var(\\epsilon) * (\\frac{1}{n} + \\frac{\\bar{x}^2}{\\sum_{i=1}^{n}{(x_i - \\bar{x})^2}})\n",
    "$$"
   ]
  },
  {
   "cell_type": "code",
   "execution_count": 61,
   "id": "923bfa11-b2d7-47e5-8888-9eef5e7cde62",
   "metadata": {},
   "outputs": [
    {
     "data": {
      "text/plain": [
       "0.5620700221572504"
      ]
     },
     "execution_count": 61,
     "metadata": {},
     "output_type": "execute_result"
    }
   ],
   "source": [
    "intercept_se = np.sqrt(e.var() * (1/X.size + ((X.mean()**2) / ((X - X.mean())**2).sum())))\n",
    "intercept_se"
   ]
  },
  {
   "cell_type": "markdown",
   "id": "5a2a2ef4-6e72-4f8f-9aa2-e49a4750c025",
   "metadata": {},
   "source": [
    "#### Confidence interval (95%)"
   ]
  },
  {
   "cell_type": "code",
   "execution_count": 66,
   "id": "0895b0d9-dd84-41da-8e9e-a469c9dc8d72",
   "metadata": {},
   "outputs": [
    {
     "name": "stdout",
     "output_type": "stream",
     "text": [
      "33.4297008350686\n",
      "35.6779809236976\n"
     ]
    }
   ],
   "source": [
    "intercept_lower_bound = beta_0 - (2 * intercept_se)\n",
    "intercept_upper_bound = beta_0 + (2 * intercept_se)\n",
    "\n",
    "print(intercept_lower_bound)\n",
    "print(intercept_upper_bound)"
   ]
  },
  {
   "cell_type": "markdown",
   "id": "24e529de-d81f-4823-9dd9-8550a3b10a49",
   "metadata": {},
   "source": [
    "## Test with null hypothesis\n",
    "\n",
    "$$\n",
    "H_0: \\beta_1 = 0\n",
    "$$\n",
    "\n",
    "$$\n",
    "H_\\alpha: \\beta_1 \\neq 0\n",
    "$$\n",
    "\n",
    "$$\n",
    "t = \\frac{\\hat{\\beta_1} - 0}{SE(\\hat{\\beta_1})}\n",
    "$$\n",
    "\n",
    "$t-statistic$ measures the number of standard deviations that $\\hat{\\beta_1}$ is away from 0"
   ]
  },
  {
   "cell_type": "code",
   "execution_count": 78,
   "id": "55780f49-5b63-4f14-b2af-c93996e82709",
   "metadata": {},
   "outputs": [
    {
     "data": {
      "text/plain": [
       "-24.55222102706998"
      ]
     },
     "execution_count": 78,
     "metadata": {},
     "output_type": "execute_result"
    }
   ],
   "source": [
    "t_statistic = beta_1/coefficient_se\n",
    "t_statistic"
   ]
  },
  {
   "cell_type": "code",
   "execution_count": 100,
   "id": "1fb7d677-73fc-4c2e-81f8-dc1c8b49b388",
   "metadata": {},
   "outputs": [
    {
     "data": {
      "text/plain": [
       "1.9348050787494668e-88"
      ]
     },
     "execution_count": 100,
     "metadata": {},
     "output_type": "execute_result"
    }
   ],
   "source": [
    "p_value = t.sf(abs(t_statistic), df=X.size - 2)\n",
    "p_value"
   ]
  },
  {
   "cell_type": "code",
   "execution_count": 119,
   "id": "61dbbe0d-b2c5-4d47-9a72-843c0051dbce",
   "metadata": {},
   "outputs": [
    {
     "data": {
      "text/plain": [
       "<matplotlib.lines.Line2D at 0x7fc88bfc2b80>"
      ]
     },
     "execution_count": 119,
     "metadata": {},
     "output_type": "execute_result"
    },
    {
     "data": {
      "image/png": "[encoded data removed]",
      "text/plain": [
       "<Figure size 432x288 with 1 Axes>"
      ]
     },
     "metadata": {
      "needs_background": "light"
     },
     "output_type": "display_data"
    }
   ],
   "source": [
    "t_distribution = t.rvs(df=X.size - 2, size=X.size)\n",
    "sns.kdeplot(t_distribution, fill=True)\n",
    "plt.axvline(x=t_distribution.mean() - 2 * t_distribution.std())\n",
    "plt.axvline(x=t_distribution.mean() + 2 * t_distribution.std())"
   ]
  },
  {
   "cell_type": "markdown",
   "id": "1b19455f-2169-4ad9-91ce-91faf0cbd8d8",
   "metadata": {},
   "source": [
    "`p_value` is less than 0.05 the che null hypothesis can be rejected "
   ]
  }
 ],
 "metadata": {
  "kernelspec": {
   "display_name": "Python 3 (ipykernel)",
   "language": "python",
   "name": "python3"
  },
  "language_info": {
   "codemirror_mode": {
    "name": "ipython",
    "version": 3
   },
   "file_extension": ".py",
   "mimetype": "text/x-python",
   "name": "python",
   "nbconvert_exporter": "python",
   "pygments_lexer": "ipython3",
   "version": "3.8.8"
  }
 },
 "nbformat": 4,
 "nbformat_minor": 5
}
